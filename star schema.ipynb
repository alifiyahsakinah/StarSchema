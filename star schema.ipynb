{
 "cells": [
  {
   "cell_type": "code",
   "execution_count": 7,
   "metadata": {},
   "outputs": [
    {
     "data": {
      "text/html": [
       "<style>div.output_scroll { height: 44em; }</style>"
      ],
      "text/plain": [
       "<IPython.core.display.HTML object>"
      ]
     },
     "metadata": {},
     "output_type": "display_data"
    }
   ],
   "source": [
    "import pandas as pd\n",
    "import sqlite3\n",
    "import math \n",
    "import numpy as np\n",
    "import matplotlib.pyplot as plt\n",
    "plt.style.use('fivethirtyeight')\n",
    "\n",
    "from IPython.core.display import display, HTML\n",
    "display(HTML(\"<style>div.output_scroll { height: 44em; }</style>\"))"
   ]
  },
  {
   "cell_type": "code",
   "execution_count": 8,
   "metadata": {},
   "outputs": [],
   "source": [
    "conn = sqlite3.connect('database.db')"
   ]
  },
  {
   "cell_type": "code",
   "execution_count": 9,
   "metadata": {},
   "outputs": [],
   "source": [
    "c = conn.cursor()"
   ]
  },
  {
   "cell_type": "markdown",
   "metadata": {},
   "source": [
    "<img src=\"dw.png\"/>"
   ]
  },
  {
   "cell_type": "code",
   "execution_count": 10,
   "metadata": {},
   "outputs": [
    {
     "data": {
      "text/plain": [
       "<sqlite3.Cursor at 0x28d6cb6dd50>"
      ]
     },
     "execution_count": 10,
     "metadata": {},
     "output_type": "execute_result"
    }
   ],
   "source": [
    "c.executescript('drop table if exists kontraktor')\n",
    "c.executescript('drop table if exists produk')\n",
    "c.executescript('drop table if exists time')\n",
    "c.executescript('drop table if exists sales')\n",
    "c.execute(\"CREATE TABLE IF NOT EXISTS 'kontraktor' ('kode_kontraktor' INT, 'nama_kontraktor' VARCHAR(255) NULL,'kontak_person' VARCHAR(255) NULL, PRIMARY KEY ('kode_kontraktor'))\")\n",
    "c.execute(\"CREATE TABLE IF NOT EXISTS 'produk' ('id_produk' INT, 'nama_produk' VARCHAR(255) NULL,'kategori_produk' VARCHAR(255) NULL, PRIMARY KEY ('id_produk'))\")\n",
    "c.execute(\"CREATE TABLE IF NOT EXISTS 'time' ('id_time' INT, 'bulan' VARCHAR(255) NULL, PRIMARY KEY ('id_time'))\")\n",
    "c.execute(\"CREATE TABLE IF NOT EXISTS 'sales' ( 'id_fact' INT, 'id_time' INT, 'kode_kontraktor' INT, 'id_produk' INT, 'jumlah_pesanan' INT, PRIMARY KEY ('id_fact'), FOREIGN KEY ('id_time') REFERENCES 'time' ('id_time') ON DELETE NO ACTION ON UPDATE NO ACTION, FOREIGN KEY ('kode_kontraktor') REFERENCES 'kontraktor' ('kode_kontraktor') ON DELETE NO ACTION ON UPDATE NO ACTION, FOREIGN KEY ('id_produk') REFERENCES 'produk' ('id_produk') ON DELETE NO ACTION ON UPDATE NO ACTION)\")"
   ]
  },
  {
   "cell_type": "code",
   "execution_count": 11,
   "metadata": {},
   "outputs": [
    {
     "data": {
      "text/html": [
       "<div>\n",
       "<style scoped>\n",
       "    .dataframe tbody tr th:only-of-type {\n",
       "        vertical-align: middle;\n",
       "    }\n",
       "\n",
       "    .dataframe tbody tr th {\n",
       "        vertical-align: top;\n",
       "    }\n",
       "\n",
       "    .dataframe thead th {\n",
       "        text-align: right;\n",
       "    }\n",
       "</style>\n",
       "<table border=\"1\" class=\"dataframe\">\n",
       "  <thead>\n",
       "    <tr style=\"text-align: right;\">\n",
       "      <th></th>\n",
       "      <th>Bulan Pemesanan</th>\n",
       "      <th>Nama Produk</th>\n",
       "      <th>Kontraktor</th>\n",
       "      <th>Kode Produk</th>\n",
       "      <th>Quantity</th>\n",
       "      <th>Contact person</th>\n",
       "    </tr>\n",
       "  </thead>\n",
       "  <tbody>\n",
       "    <tr>\n",
       "      <th>0</th>\n",
       "      <td>Januari</td>\n",
       "      <td>Lampu LED 20 Watt</td>\n",
       "      <td>CV. Selaras</td>\n",
       "      <td>Uniled 20 Watt</td>\n",
       "      <td>10</td>\n",
       "      <td>Bapak Fauzi</td>\n",
       "    </tr>\n",
       "    <tr>\n",
       "      <th>1</th>\n",
       "      <td>Januari</td>\n",
       "      <td>Lampu LED 30 Watt</td>\n",
       "      <td>CV. Selaras</td>\n",
       "      <td>Uniled 30 Watt</td>\n",
       "      <td>30</td>\n",
       "      <td>Bapak Fauzi</td>\n",
       "    </tr>\n",
       "    <tr>\n",
       "      <th>2</th>\n",
       "      <td>Januari</td>\n",
       "      <td>Solar Cell 50 WP</td>\n",
       "      <td>CV. Selaras</td>\n",
       "      <td>SC 50 WP</td>\n",
       "      <td>500</td>\n",
       "      <td>Bapak Fauzi</td>\n",
       "    </tr>\n",
       "    <tr>\n",
       "      <th>3</th>\n",
       "      <td>Januari</td>\n",
       "      <td>Regulator</td>\n",
       "      <td>CV. Selaras</td>\n",
       "      <td>BCR</td>\n",
       "      <td>70</td>\n",
       "      <td>Bapak Fauzi</td>\n",
       "    </tr>\n",
       "    <tr>\n",
       "      <th>4</th>\n",
       "      <td>Januari</td>\n",
       "      <td>Lampu LED 20 Watt</td>\n",
       "      <td>PT. Panji Makmur</td>\n",
       "      <td>Uniled 20 Watt</td>\n",
       "      <td>40</td>\n",
       "      <td>Bapak Rosidi</td>\n",
       "    </tr>\n",
       "    <tr>\n",
       "      <th>...</th>\n",
       "      <td>...</td>\n",
       "      <td>...</td>\n",
       "      <td>...</td>\n",
       "      <td>...</td>\n",
       "      <td>...</td>\n",
       "      <td>...</td>\n",
       "    </tr>\n",
       "    <tr>\n",
       "      <th>145</th>\n",
       "      <td>Desember</td>\n",
       "      <td>Solar Cell 50 WP</td>\n",
       "      <td>PT. Aditarwan</td>\n",
       "      <td>SC 50 WP</td>\n",
       "      <td>60</td>\n",
       "      <td>Bapak Aditya</td>\n",
       "    </tr>\n",
       "    <tr>\n",
       "      <th>146</th>\n",
       "      <td>Desember</td>\n",
       "      <td>Penerangan Jalan Umum 60 Watt</td>\n",
       "      <td>CV. Metec</td>\n",
       "      <td>PJU 60 Watt</td>\n",
       "      <td>50</td>\n",
       "      <td>Bapak Rudi</td>\n",
       "    </tr>\n",
       "    <tr>\n",
       "      <th>147</th>\n",
       "      <td>Desember</td>\n",
       "      <td>Lampu Land Scape 40 Watt</td>\n",
       "      <td>CV. Metec</td>\n",
       "      <td>LLS 40 Watt</td>\n",
       "      <td>30</td>\n",
       "      <td>Bapak Rudi</td>\n",
       "    </tr>\n",
       "    <tr>\n",
       "      <th>148</th>\n",
       "      <td>Desember</td>\n",
       "      <td>Lampu Heavy Duty 40 Watt</td>\n",
       "      <td>CV. Metec</td>\n",
       "      <td>LHD 40 Watt</td>\n",
       "      <td>20</td>\n",
       "      <td>Bapak Rudi</td>\n",
       "    </tr>\n",
       "    <tr>\n",
       "      <th>149</th>\n",
       "      <td>Desember</td>\n",
       "      <td>Lampu Industri 40 Watt</td>\n",
       "      <td>CV. Metec</td>\n",
       "      <td>LI 40 Watt</td>\n",
       "      <td>40</td>\n",
       "      <td>Bapak Rudi</td>\n",
       "    </tr>\n",
       "  </tbody>\n",
       "</table>\n",
       "<p>150 rows × 6 columns</p>\n",
       "</div>"
      ],
      "text/plain": [
       "    Bulan Pemesanan                    Nama Produk        Kontraktor  \\\n",
       "0           Januari              Lampu LED 20 Watt       CV. Selaras   \n",
       "1           Januari              Lampu LED 30 Watt       CV. Selaras   \n",
       "2           Januari               Solar Cell 50 WP       CV. Selaras   \n",
       "3           Januari                      Regulator       CV. Selaras   \n",
       "4           Januari              Lampu LED 20 Watt  PT. Panji Makmur   \n",
       "..              ...                            ...               ...   \n",
       "145        Desember               Solar Cell 50 WP     PT. Aditarwan   \n",
       "146        Desember  Penerangan Jalan Umum 60 Watt         CV. Metec   \n",
       "147        Desember       Lampu Land Scape 40 Watt         CV. Metec   \n",
       "148        Desember       Lampu Heavy Duty 40 Watt         CV. Metec   \n",
       "149        Desember         Lampu Industri 40 Watt         CV. Metec   \n",
       "\n",
       "        Kode Produk  Quantity Contact person  \n",
       "0    Uniled 20 Watt        10    Bapak Fauzi  \n",
       "1    Uniled 30 Watt        30    Bapak Fauzi  \n",
       "2          SC 50 WP       500    Bapak Fauzi  \n",
       "3               BCR        70    Bapak Fauzi  \n",
       "4    Uniled 20 Watt        40   Bapak Rosidi  \n",
       "..              ...       ...            ...  \n",
       "145        SC 50 WP        60  Bapak Aditya   \n",
       "146     PJU 60 Watt        50     Bapak Rudi  \n",
       "147     LLS 40 Watt        30     Bapak Rudi  \n",
       "148     LHD 40 Watt        20     Bapak Rudi  \n",
       "149      LI 40 Watt        40     Bapak Rudi  \n",
       "\n",
       "[150 rows x 6 columns]"
      ]
     },
     "execution_count": 11,
     "metadata": {},
     "output_type": "execute_result"
    }
   ],
   "source": [
    "df = pd.read_csv(\"data dw.csv\")\n",
    "df"
   ]
  },
  {
   "cell_type": "code",
   "execution_count": null,
   "metadata": {},
   "outputs": [],
   "source": []
  }
 ],
 "metadata": {
  "kernelspec": {
   "display_name": "Python 3",
   "language": "python",
   "name": "python3"
  },
  "language_info": {
   "codemirror_mode": {
    "name": "ipython",
    "version": 3
   },
   "file_extension": ".py",
   "mimetype": "text/x-python",
   "name": "python",
   "nbconvert_exporter": "python",
   "pygments_lexer": "ipython3",
   "version": "3.8.5"
  }
 },
 "nbformat": 4,
 "nbformat_minor": 4
}
